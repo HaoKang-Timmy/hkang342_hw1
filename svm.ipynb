{
 "cells": [
  {
   "cell_type": "code",
   "execution_count": 1,
   "metadata": {},
   "outputs": [],
   "source": [
    "import torch\n",
    "import torchvision\n",
    "from torchvision import transforms\n",
    "from sklearn import svm\n",
    "from sklearn.metrics import accuracy_score"
   ]
  },
  {
   "cell_type": "code",
   "execution_count": 2,
   "metadata": {},
   "outputs": [],
   "source": [
    "transform = transforms.Compose([transforms.ToTensor()])\n",
    "mnist_dataset = torchvision.datasets.MNIST(root='./data', train=True, transform=transform, download=True)\n",
    "X_train = mnist_dataset.data.view(-1, 28 * 28).float()\n",
    "y_train = mnist_dataset.targets.numpy()\n",
    "\n",
    "mnist_test_dataset = torchvision.datasets.MNIST(root='./data', train=False, transform=transform, download=True)\n",
    "X_test = mnist_test_dataset.data.view(-1, 28 * 28).float()\n",
    "y_test = mnist_test_dataset.targets.numpy()"
   ]
  },
  {
   "cell_type": "code",
   "execution_count": 3,
   "metadata": {},
   "outputs": [],
   "source": [
    "# Linear Kernel SVM\n",
    "linear_svm = svm.SVC(kernel='linear')\n",
    "linear_svm.fit(X_train, y_train)\n",
    "print(\"Finished\")"
   ]
  },
  {
   "cell_type": "code",
   "execution_count": null,
   "metadata": {},
   "outputs": [],
   "source": [
    "# RBF Kernel SVM\n",
    "rbf_svm = svm.SVC(kernel='rbf')\n",
    "rbf_svm.fit(X_train, y_train)\n",
    "print(\"Finished\")"
   ]
  },
  {
   "cell_type": "code",
   "execution_count": null,
   "metadata": {},
   "outputs": [],
   "source": [
    "# Predictions\n",
    "print(\"begin predict\")\n",
    "linear_train_pred = linear_svm.predict(X_train)\n",
    "rbf_train_pred = rbf_svm.predict(X_train)\n",
    "\n",
    "linear_test_pred = linear_svm.predict(X_test)\n",
    "rbf_test_pred = rbf_svm.predict(X_test)\n",
    "\n",
    "# Evaluate Linear SVM\n",
    "linear_train_accuracy = accuracy_score(y_train, linear_train_pred)\n",
    "linear_test_accuracy = accuracy_score(y_test, linear_test_pred)\n",
    "\n",
    "print(\"Linear SVM Accuracy (Train): {:.2f}%\".format(linear_train_accuracy * 100))\n",
    "print(\"Linear SVM Accuracy (Test): {:.2f}%\".format(linear_test_accuracy * 100))\n",
    "\n",
    "# Evaluate RBF SVM\n",
    "rbf_train_accuracy = accuracy_score(y_train, rbf_train_pred)\n",
    "rbf_test_accuracy = accuracy_score(y_test, rbf_test_pred)\n",
    "\n",
    "print(\"RBF SVM Accuracy (Train): {:.2f}%\".format(rbf_train_accuracy * 100))\n",
    "print(\"RBF SVM Accuracy (Test): {:.2f}%\".format(rbf_test_accuracy * 100))"
   ]
  }
 ],
 "metadata": {
  "kernelspec": {
   "display_name": "llm",
   "language": "python",
   "name": "python3"
  },
  "language_info": {
   "codemirror_mode": {
    "name": "ipython",
    "version": 3
   },
   "file_extension": ".py",
   "mimetype": "text/x-python",
   "name": "python",
   "nbconvert_exporter": "python",
   "pygments_lexer": "ipython3",
   "version": "3.10.13"
  },
  "orig_nbformat": 4
 },
 "nbformat": 4,
 "nbformat_minor": 2
}
